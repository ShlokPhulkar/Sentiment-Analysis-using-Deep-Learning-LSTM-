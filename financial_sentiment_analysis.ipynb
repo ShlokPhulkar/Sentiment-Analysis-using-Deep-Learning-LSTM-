{
 "cells": [
  {
   "cell_type": "markdown",
   "id": "2fdc3cc2-90e9-4383-8b76-e21400f2e702",
   "metadata": {},
   "source": [
    "# Fianacial Sentiment Analysis"
   ]
  },
  {
   "cell_type": "code",
   "execution_count": 95,
   "id": "e92b75e8-b69a-468e-a301-5d8cabae41ba",
   "metadata": {},
   "outputs": [],
   "source": [
    "#Import the libraries\n",
    "import numpy as np\n",
    "import pandas as pd\n",
    "import re\n",
    "from nltk.stem import PorterStemmer\n",
    "from nltk.corpus import stopwords\n",
    "from sklearn.feature_extraction.text import CountVectorizer,TfidfVectorizer\n",
    "from sklearn.ensemble import RandomForestClassifier\n",
    "from sklearn.model_selection import train_test_split\n",
    "from keras.preprocessing.text import one_hot\n",
    "import keras.utils as ku\n",
    "from keras import Sequential\n",
    "from sklearn import metrics\n",
    "#! pip install textblob"
   ]
  },
  {
   "cell_type": "code",
   "execution_count": 3,
   "id": "5d58d37e-01a6-40de-ae39-b323483205f2",
   "metadata": {},
   "outputs": [
    {
     "data": {
      "text/html": [
       "<div>\n",
       "<style scoped>\n",
       "    .dataframe tbody tr th:only-of-type {\n",
       "        vertical-align: middle;\n",
       "    }\n",
       "\n",
       "    .dataframe tbody tr th {\n",
       "        vertical-align: top;\n",
       "    }\n",
       "\n",
       "    .dataframe thead th {\n",
       "        text-align: right;\n",
       "    }\n",
       "</style>\n",
       "<table border=\"1\" class=\"dataframe\">\n",
       "  <thead>\n",
       "    <tr style=\"text-align: right;\">\n",
       "      <th></th>\n",
       "      <th>Sentence</th>\n",
       "      <th>Sentiment</th>\n",
       "    </tr>\n",
       "  </thead>\n",
       "  <tbody>\n",
       "    <tr>\n",
       "      <th>0</th>\n",
       "      <td>The GeoSolutions technology will leverage Bene...</td>\n",
       "      <td>positive</td>\n",
       "    </tr>\n",
       "    <tr>\n",
       "      <th>1</th>\n",
       "      <td>$ESI on lows, down $1.50 to $2.50 BK a real po...</td>\n",
       "      <td>negative</td>\n",
       "    </tr>\n",
       "    <tr>\n",
       "      <th>2</th>\n",
       "      <td>For the last quarter of 2010 , Componenta 's n...</td>\n",
       "      <td>positive</td>\n",
       "    </tr>\n",
       "    <tr>\n",
       "      <th>3</th>\n",
       "      <td>According to the Finnish-Russian Chamber of Co...</td>\n",
       "      <td>neutral</td>\n",
       "    </tr>\n",
       "    <tr>\n",
       "      <th>4</th>\n",
       "      <td>The Swedish buyout firm has sold its remaining...</td>\n",
       "      <td>neutral</td>\n",
       "    </tr>\n",
       "    <tr>\n",
       "      <th>...</th>\n",
       "      <td>...</td>\n",
       "      <td>...</td>\n",
       "    </tr>\n",
       "    <tr>\n",
       "      <th>5837</th>\n",
       "      <td>RISING costs have forced packaging producer Hu...</td>\n",
       "      <td>negative</td>\n",
       "    </tr>\n",
       "    <tr>\n",
       "      <th>5838</th>\n",
       "      <td>Nordic Walking was first used as a summer trai...</td>\n",
       "      <td>neutral</td>\n",
       "    </tr>\n",
       "    <tr>\n",
       "      <th>5839</th>\n",
       "      <td>According shipping company Viking Line , the E...</td>\n",
       "      <td>neutral</td>\n",
       "    </tr>\n",
       "    <tr>\n",
       "      <th>5840</th>\n",
       "      <td>In the building and home improvement trade , s...</td>\n",
       "      <td>neutral</td>\n",
       "    </tr>\n",
       "    <tr>\n",
       "      <th>5841</th>\n",
       "      <td>HELSINKI AFX - KCI Konecranes said it has won ...</td>\n",
       "      <td>positive</td>\n",
       "    </tr>\n",
       "  </tbody>\n",
       "</table>\n",
       "<p>5842 rows × 2 columns</p>\n",
       "</div>"
      ],
      "text/plain": [
       "                                               Sentence Sentiment\n",
       "0     The GeoSolutions technology will leverage Bene...  positive\n",
       "1     $ESI on lows, down $1.50 to $2.50 BK a real po...  negative\n",
       "2     For the last quarter of 2010 , Componenta 's n...  positive\n",
       "3     According to the Finnish-Russian Chamber of Co...   neutral\n",
       "4     The Swedish buyout firm has sold its remaining...   neutral\n",
       "...                                                 ...       ...\n",
       "5837  RISING costs have forced packaging producer Hu...  negative\n",
       "5838  Nordic Walking was first used as a summer trai...   neutral\n",
       "5839  According shipping company Viking Line , the E...   neutral\n",
       "5840  In the building and home improvement trade , s...   neutral\n",
       "5841  HELSINKI AFX - KCI Konecranes said it has won ...  positive\n",
       "\n",
       "[5842 rows x 2 columns]"
      ]
     },
     "execution_count": 3,
     "metadata": {},
     "output_type": "execute_result"
    }
   ],
   "source": [
    "#Load the dataset\n",
    "df=pd.read_csv(\"financila_sentiments.csv\")\n",
    "df"
   ]
  },
  {
   "cell_type": "markdown",
   "id": "44c437b5-fd21-4ca2-9c41-6d50ab920e12",
   "metadata": {},
   "source": [
    "Conclusion= The data has been loaded properly but now we need to create a corpus."
   ]
  },
  {
   "cell_type": "code",
   "execution_count": 13,
   "id": "1a660241-0103-424b-8dba-4c012ac4b991",
   "metadata": {},
   "outputs": [],
   "source": [
    "#Creating a corpus\n",
    "corpus=[]\n",
    "PS=PorterStemmer()\n",
    "for i in range(0,len(df)):\n",
    "    clean=re.sub(\"[^a-zA-Z]\",\" \",str(df[\"Sentence\"][i]))\n",
    "    clean=clean.lower()\n",
    "    clean=clean.split()\n",
    "    clean=[PS.stem(word) for word in clean if word not in stopwords.words(\"english\")]\n",
    "    clean=\" \".join(clean)\n",
    "    corpus.append(clean)"
   ]
  },
  {
   "cell_type": "code",
   "execution_count": 18,
   "id": "0eecd28e-201f-49ca-974a-082d4c999d0f",
   "metadata": {},
   "outputs": [],
   "source": [
    "# Treatment of categorical target col\n",
    "y=df[\"Sentiment\"].map({\"positive\":0,\"neutral\":1,\"negative\":2})"
   ]
  },
  {
   "cell_type": "markdown",
   "id": "ec5ffea2-ac9d-4b46-9aed-cd31584e07a9",
   "metadata": {},
   "source": [
    "# BOW"
   ]
  },
  {
   "cell_type": "code",
   "execution_count": 34,
   "id": "2bc727da-6b57-4313-b414-2e77ea3c2084",
   "metadata": {},
   "outputs": [],
   "source": [
    "#Creating train test spli with BOW\n",
    "BOW=CountVectorizer()\n",
    "X=BOW.fit_transform(corpus)\n",
    "X_train,X_test,y_train,y_test=train_test_split(X,y)"
   ]
  },
  {
   "cell_type": "code",
   "execution_count": 46,
   "id": "851c8149-bf3b-4246-be0b-65827dcb2c70",
   "metadata": {},
   "outputs": [
    {
     "data": {
      "text/plain": [
       "RandomForestClassifier()"
      ]
     },
     "execution_count": 46,
     "metadata": {},
     "output_type": "execute_result"
    }
   ],
   "source": [
    "#Model Building\n",
    "RF=RandomForestClassifier()\n",
    "RF.fit(X_train,y_train)"
   ]
  },
  {
   "cell_type": "code",
   "execution_count": 47,
   "id": "bea4629b-770e-4ebe-80ca-0a5d8fee24b0",
   "metadata": {},
   "outputs": [
    {
     "name": "stdout",
     "output_type": "stream",
     "text": [
      "Accuracy is 0.6427104722792608\n"
     ]
    }
   ],
   "source": [
    "#Performance parameter\n",
    "Predicted=RF.predict(X_test)\n",
    "print(\"Accuracy is\",metrics.accuracy_score(y_test,Predicted))"
   ]
  },
  {
   "cell_type": "markdown",
   "id": "84c11cff-381a-4e82-9f98-b08475724f39",
   "metadata": {},
   "source": [
    "Conclusion=The performance is not good enough."
   ]
  },
  {
   "cell_type": "markdown",
   "id": "fff52797-aa2e-48a0-967c-2f1b83729b11",
   "metadata": {},
   "source": [
    "# TFIDF"
   ]
  },
  {
   "cell_type": "code",
   "execution_count": 48,
   "id": "0fa6c017-3dda-43a3-bd25-e168583cfbcc",
   "metadata": {},
   "outputs": [],
   "source": [
    "#Creating train test split with the help of TFIDF\n",
    "TFIDF=TfidfVectorizer()\n",
    "X=TFIDF.fit_transform(corpus)\n",
    "X_train,X_test,y_train,y_test=train_test_split(X,y)"
   ]
  },
  {
   "cell_type": "code",
   "execution_count": 49,
   "id": "71747f71-78d5-4ec3-8a51-62375942a608",
   "metadata": {},
   "outputs": [
    {
     "data": {
      "text/plain": [
       "RandomForestClassifier()"
      ]
     },
     "execution_count": 49,
     "metadata": {},
     "output_type": "execute_result"
    }
   ],
   "source": [
    "#Model\n",
    "#Model Building\n",
    "RF=RandomForestClassifier()\n",
    "RF.fit(X_train,y_train)"
   ]
  },
  {
   "cell_type": "code",
   "execution_count": 50,
   "id": "e308d352-9102-4c7d-9101-02a306ee93a7",
   "metadata": {},
   "outputs": [
    {
     "name": "stdout",
     "output_type": "stream",
     "text": [
      "Accuracy is 0.6563997262149213\n"
     ]
    }
   ],
   "source": [
    "#Performance parameter\n",
    "Predicted=RF.predict(X_test)\n",
    "print(\"Accuracy is\",metrics.accuracy_score(y_test,Predicted))"
   ]
  },
  {
   "cell_type": "markdown",
   "id": "433a4976-3d20-4034-87e6-a9b4592d05b4",
   "metadata": {},
   "source": [
    "Conclusion=Performance is not good."
   ]
  },
  {
   "cell_type": "markdown",
   "id": "33751f56-905f-4886-bd5d-80f7bf55a96c",
   "metadata": {},
   "source": [
    "# Apply LSTM for better performance"
   ]
  },
  {
   "cell_type": "code",
   "execution_count": 55,
   "id": "96a3c584-b89a-41d9-9821-bb8c0029891c",
   "metadata": {},
   "outputs": [],
   "source": [
    "#Creating a train test split\n",
    "vocab=[one_hot(word,5000) for word in corpus]\n",
    "X=ku.pad_sequences(vocab)\n",
    "X_train,X_test,y_train,y_test=train_test_split(X,y)"
   ]
  },
  {
   "cell_type": "code",
   "execution_count": 60,
   "id": "192ca568-4ca4-4d80-95e2-9021769e1ce7",
   "metadata": {},
   "outputs": [
    {
     "data": {
      "application/javascript": [
       "\n",
       "        if (window._pyforest_update_imports_cell) { window._pyforest_update_imports_cell('import keras'); }\n",
       "    "
      ],
      "text/plain": [
       "<IPython.core.display.Javascript object>"
      ]
     },
     "metadata": {},
     "output_type": "display_data"
    },
    {
     "data": {
      "application/javascript": [
       "\n",
       "        if (window._pyforest_update_imports_cell) { window._pyforest_update_imports_cell('import keras'); }\n",
       "    "
      ],
      "text/plain": [
       "<IPython.core.display.Javascript object>"
      ]
     },
     "metadata": {},
     "output_type": "display_data"
    },
    {
     "data": {
      "application/javascript": [
       "\n",
       "        if (window._pyforest_update_imports_cell) { window._pyforest_update_imports_cell('import keras'); }\n",
       "    "
      ],
      "text/plain": [
       "<IPython.core.display.Javascript object>"
      ]
     },
     "metadata": {},
     "output_type": "display_data"
    },
    {
     "name": "stdout",
     "output_type": "stream",
     "text": [
      "Epoch 1/20\n",
      "137/137 [==============================] - 49s 322ms/step - loss: 0.8480 - accuracy: 0.6161\n",
      "Epoch 2/20\n",
      "137/137 [==============================] - 44s 320ms/step - loss: 0.5154 - accuracy: 0.7765\n",
      "Epoch 3/20\n",
      "137/137 [==============================] - 44s 318ms/step - loss: 0.3543 - accuracy: 0.8357\n",
      "Epoch 4/20\n",
      "137/137 [==============================] - 45s 326ms/step - loss: 0.2567 - accuracy: 0.8749\n",
      "Epoch 5/20\n",
      "137/137 [==============================] - 46s 333ms/step - loss: 0.2109 - accuracy: 0.8824\n",
      "Epoch 6/20\n",
      "137/137 [==============================] - 45s 328ms/step - loss: 0.1852 - accuracy: 0.8961\n",
      "Epoch 7/20\n",
      "137/137 [==============================] - 44s 324ms/step - loss: 0.1660 - accuracy: 0.8998\n",
      "Epoch 8/20\n",
      "137/137 [==============================] - 44s 321ms/step - loss: 0.1482 - accuracy: 0.9012\n",
      "Epoch 9/20\n",
      "137/137 [==============================] - 44s 323ms/step - loss: 0.1497 - accuracy: 0.9034\n",
      "Epoch 10/20\n",
      "137/137 [==============================] - 44s 322ms/step - loss: 0.1566 - accuracy: 0.9055\n",
      "Epoch 11/20\n",
      "137/137 [==============================] - 44s 321ms/step - loss: 0.1480 - accuracy: 0.9050\n",
      "Epoch 12/20\n",
      "137/137 [==============================] - 44s 319ms/step - loss: 0.1397 - accuracy: 0.9094\n",
      "Epoch 13/20\n",
      "137/137 [==============================] - 44s 321ms/step - loss: 0.1392 - accuracy: 0.9080\n",
      "Epoch 14/20\n",
      "137/137 [==============================] - 44s 322ms/step - loss: 0.1378 - accuracy: 0.9046\n",
      "Epoch 15/20\n",
      "137/137 [==============================] - 44s 320ms/step - loss: 0.1296 - accuracy: 0.9133\n",
      "Epoch 16/20\n",
      "137/137 [==============================] - 44s 323ms/step - loss: 0.1328 - accuracy: 0.9137\n",
      "Epoch 17/20\n",
      "137/137 [==============================] - 44s 322ms/step - loss: 0.1280 - accuracy: 0.9176\n",
      "Epoch 18/20\n",
      "137/137 [==============================] - 44s 321ms/step - loss: 0.1239 - accuracy: 0.9142\n",
      "Epoch 19/20\n",
      "137/137 [==============================] - 44s 321ms/step - loss: 0.1187 - accuracy: 0.9176\n",
      "Epoch 20/20\n",
      "137/137 [==============================] - 44s 321ms/step - loss: 0.1160 - accuracy: 0.9160\n"
     ]
    },
    {
     "data": {
      "text/plain": [
       "<keras.callbacks.History at 0x1af26683af0>"
      ]
     },
     "execution_count": 60,
     "metadata": {},
     "output_type": "execute_result"
    }
   ],
   "source": [
    "#Creating a LSTM Model\n",
    "#Instantiate the model\n",
    "model=Sequential()\n",
    "#Embedding layer\n",
    "model.add(keras.layers.Embedding(5000,1000))\n",
    "#Adding LSTM Layer\n",
    "model.add(keras.layers.LSTM(100))\n",
    "#Adding a dense layer\n",
    "model.add(keras.layers.Dense(units=3,activation=\"softmax\"))\n",
    "#Compilation \n",
    "model.compile(optimizer=\"adam\",loss=\"sparse_categorical_crossentropy\",metrics=\"accuracy\")\n",
    "#Fit\n",
    "model.fit(X_train,y_train,epochs=20)"
   ]
  },
  {
   "cell_type": "code",
   "execution_count": 67,
   "id": "086b6e86-17c7-411d-8774-b074993322fc",
   "metadata": {},
   "outputs": [
    {
     "name": "stdout",
     "output_type": "stream",
     "text": [
      "137/137 [==============================] - 10s 76ms/step - loss: 0.1122 - accuracy: 0.9265\n",
      "Traning evalutaion [0.11221194267272949, 0.9265007972717285]\n"
     ]
    }
   ],
   "source": [
    "#Model Evaulation on training and testing\n",
    "print(\"Traning evalutaion\",model.evaluate(X_train,y_train))"
   ]
  },
  {
   "cell_type": "markdown",
   "id": "d637c99f-30a7-4cf8-861f-a238088805b0",
   "metadata": {},
   "source": [
    "# Thank you"
   ]
  }
 ],
 "metadata": {
  "kernelspec": {
   "display_name": "Python 3 (ipykernel)",
   "language": "python",
   "name": "python3"
  },
  "language_info": {
   "codemirror_mode": {
    "name": "ipython",
    "version": 3
   },
   "file_extension": ".py",
   "mimetype": "text/x-python",
   "name": "python",
   "nbconvert_exporter": "python",
   "pygments_lexer": "ipython3",
   "version": "3.9.12"
  }
 },
 "nbformat": 4,
 "nbformat_minor": 5
}
